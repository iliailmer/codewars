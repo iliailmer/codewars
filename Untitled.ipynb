{
 "cells": [
  {
   "cell_type": "code",
   "execution_count": 176,
   "metadata": {},
   "outputs": [],
   "source": [
    "import re\n",
    "class Plugboard(object):\n",
    "    def __init__(self, wires=''):\n",
    "        if len(wires)>20 or len(wires)%2!=0 or len(set(wires))!=len(wires):\n",
    "            raise Exception(\"Bad wiring\")\n",
    "        else:\n",
    "            self.dct_to = dict(re.findall(r'(?i)([a-z][a-z])',\n",
    "                               wires[:20]))#+wires[:20][::-1]))\n",
    "            self.dct_from = dict(re.findall(r'(?i)([a-z][a-z])',\n",
    "                                 wires[:20][::-1]))#+wires[:20][::-1]))\n",
    "        pass\n",
    "\n",
    "\n",
    "    def process(self, c):\n",
    "        \"\"\"\n",
    "        c: The single character to process\n",
    "        \"\"\"\n",
    "        if c in self.dct_to.keys():\n",
    "            return self.dct_to[c]\n",
    "        elif c in self.dct_from.keys():\n",
    "            return self.dct_from[c]\n",
    "        else:\n",
    "            return c"
   ]
  },
  {
   "cell_type": "code",
   "execution_count": 180,
   "metadata": {},
   "outputs": [],
   "source": [
    "class Rotor(object):\n",
    "    def __init__(self, name, wiring, notches, ring_position, start_position):\n",
    "        \"\"\"\n",
    "        name: Arbitrary rotor name\n",
    "        wiring: A string of 26 letters indicating the output mapping for letters A-Z in order\n",
    "        notches: A string with at least 1 letter indicating when the next rotor should turn\n",
    "        ring_position: The letter next to the rotor's dot\n",
    "        start_position: The letter initially visible\n",
    "        If any parameters are invalid an exception will be raised.\n",
    "        \"\"\"\n",
    "        self.name = name\n",
    "        \n",
    "        alph = 'ABCDEFGHIJKLMNOPQRSTUVWXYZ'\n",
    "        #move the ring so that it starts with the ring position\n",
    "        self.ring = alph[ord(ring_position)-ord('A'):]+ alph[:ord(ring_position)-ord('A')]\n",
    "        \n",
    "        self.notch = self.ring[ord(notches)-ord('A')]\n",
    "        \n",
    "        #move the ring and the wiring to the start position\n",
    "        self.ring = self.ring[ord(start_position)-ord(ring_position):]+self.ring[:ord(start_position)-ord(ring_position)]\n",
    "        self.wiring = wiring[ord(start_position)-ord(ring_position):]+wiring[:ord(start_position)-ord(ring_position)] #dict(zip(alph, wiring[:26])) \n",
    "        self.notch = self.ring[ord(self.notch)-ord(start_position)]\n",
    "        \n",
    "        self.ring_position = ring_position\n",
    "        self.start_position = start_position\n",
    "        pass\n",
    "\n",
    "    def process(self, c, rotate):\n",
    "        \"\"\"\n",
    "        Simulates the signal being received at the rotor input.\n",
    "        c: The single character to process\n",
    "        rotate: If True, the rotor should simulate rotation after processing this character\n",
    "        returns: tuple(enciphered character, True if notch was present)\n",
    "        \"\"\"\n",
    "        print(self.ring)\n",
    "        #rotate the ring (visible) and the wiring simultaniously\n",
    "        self.ring = self.ring[1:]+self.ring[0]\n",
    "        self.wiring = self.wiring[1:]+self.wiring[0]\n",
    "        #self.notch = self.ring[ord(self.notch)-ord(start_position)]\n",
    "        print(self.ring)\n",
    "        \n",
    "        #then the wiring starts to work\n",
    "        alph = 'ABCDEFGHIJKLMNOPQRSTUVWXYZ'\n",
    "        self.inp2ring = dict(zip(list(alph), list(self.ring))) #map input to ring\n",
    "        self.ring2wire = dict(zip(list(self.ring), list(self.wiring))) #map ring to wiring\n",
    "        \n",
    "        print(self.inp2ring)\n",
    "        print(self.ring2wire)\n",
    "        c = self.inp2ring[c]\n",
    "        c = self.ring2wire[c]\n",
    "        c = self.wiring_plugboard.process(c)\n",
    "        return c, False\n"
   ]
  },
  {
   "cell_type": "code",
   "execution_count": 181,
   "metadata": {},
   "outputs": [
    {
     "ename": "Exception",
     "evalue": "Bad wiring",
     "output_type": "error",
     "traceback": [
      "\u001b[0;31m---------------------------------------------------------------------------\u001b[0m",
      "\u001b[0;31mException\u001b[0m                                 Traceback (most recent call last)",
      "\u001b[0;32m<ipython-input-181-fde902167a53>\u001b[0m in \u001b[0;36m<module>\u001b[0;34m()\u001b[0m\n\u001b[0;32m----> 1\u001b[0;31m \u001b[0mrotorI\u001b[0m \u001b[0;34m=\u001b[0m \u001b[0mRotor\u001b[0m\u001b[0;34m(\u001b[0m\u001b[0;34m\"I\"\u001b[0m\u001b[0;34m,\u001b[0m \u001b[0;34m\"EKMFLGDQVZNTOWYHXUSPAIBRCJ\"\u001b[0m\u001b[0;34m,\u001b[0m \u001b[0;34m\"Q\"\u001b[0m\u001b[0;34m,\u001b[0m \u001b[0;34m\"Z\"\u001b[0m\u001b[0;34m,\u001b[0m \u001b[0;34m\"O\"\u001b[0m\u001b[0;34m)\u001b[0m\u001b[0;34m\u001b[0m\u001b[0m\n\u001b[0m",
      "\u001b[0;32m<ipython-input-180-814c053d163c>\u001b[0m in \u001b[0;36m__init__\u001b[0;34m(self, name, wiring, notches, ring_position, start_position)\u001b[0m\n\u001b[1;32m     20\u001b[0m         \u001b[0mself\u001b[0m\u001b[0;34m.\u001b[0m\u001b[0mring\u001b[0m \u001b[0;34m=\u001b[0m \u001b[0mself\u001b[0m\u001b[0;34m.\u001b[0m\u001b[0mring\u001b[0m\u001b[0;34m[\u001b[0m\u001b[0mord\u001b[0m\u001b[0;34m(\u001b[0m\u001b[0mstart_position\u001b[0m\u001b[0;34m)\u001b[0m\u001b[0;34m-\u001b[0m\u001b[0mord\u001b[0m\u001b[0;34m(\u001b[0m\u001b[0mring_position\u001b[0m\u001b[0;34m)\u001b[0m\u001b[0;34m:\u001b[0m\u001b[0;34m]\u001b[0m\u001b[0;34m+\u001b[0m\u001b[0mself\u001b[0m\u001b[0;34m.\u001b[0m\u001b[0mring\u001b[0m\u001b[0;34m[\u001b[0m\u001b[0;34m:\u001b[0m\u001b[0mord\u001b[0m\u001b[0;34m(\u001b[0m\u001b[0mstart_position\u001b[0m\u001b[0;34m)\u001b[0m\u001b[0;34m-\u001b[0m\u001b[0mord\u001b[0m\u001b[0;34m(\u001b[0m\u001b[0mring_position\u001b[0m\u001b[0;34m)\u001b[0m\u001b[0;34m]\u001b[0m\u001b[0;34m\u001b[0m\u001b[0m\n\u001b[1;32m     21\u001b[0m         \u001b[0mself\u001b[0m\u001b[0;34m.\u001b[0m\u001b[0mwiring\u001b[0m \u001b[0;34m=\u001b[0m \u001b[0mwiring\u001b[0m\u001b[0;34m[\u001b[0m\u001b[0mord\u001b[0m\u001b[0;34m(\u001b[0m\u001b[0mstart_position\u001b[0m\u001b[0;34m)\u001b[0m\u001b[0;34m-\u001b[0m\u001b[0mord\u001b[0m\u001b[0;34m(\u001b[0m\u001b[0mring_position\u001b[0m\u001b[0;34m)\u001b[0m\u001b[0;34m:\u001b[0m\u001b[0;34m]\u001b[0m\u001b[0;34m+\u001b[0m\u001b[0mwiring\u001b[0m\u001b[0;34m[\u001b[0m\u001b[0;34m:\u001b[0m\u001b[0mord\u001b[0m\u001b[0;34m(\u001b[0m\u001b[0mstart_position\u001b[0m\u001b[0;34m)\u001b[0m\u001b[0;34m-\u001b[0m\u001b[0mord\u001b[0m\u001b[0;34m(\u001b[0m\u001b[0mring_position\u001b[0m\u001b[0;34m)\u001b[0m\u001b[0;34m]\u001b[0m \u001b[0;31m#dict(zip(alph, wiring[:26]))\u001b[0m\u001b[0;34m\u001b[0m\u001b[0m\n\u001b[0;32m---> 22\u001b[0;31m         \u001b[0mself\u001b[0m\u001b[0;34m.\u001b[0m\u001b[0mwiring_plugboard\u001b[0m \u001b[0;34m=\u001b[0m \u001b[0mPlugboard\u001b[0m\u001b[0;34m(\u001b[0m\u001b[0mwires\u001b[0m\u001b[0;34m=\u001b[0m\u001b[0mself\u001b[0m\u001b[0;34m.\u001b[0m\u001b[0mwiring\u001b[0m\u001b[0;34m)\u001b[0m\u001b[0;34m\u001b[0m\u001b[0m\n\u001b[0m\u001b[1;32m     23\u001b[0m         \u001b[0mself\u001b[0m\u001b[0;34m.\u001b[0m\u001b[0mnotch\u001b[0m \u001b[0;34m=\u001b[0m \u001b[0mself\u001b[0m\u001b[0;34m.\u001b[0m\u001b[0mring\u001b[0m\u001b[0;34m[\u001b[0m\u001b[0mord\u001b[0m\u001b[0;34m(\u001b[0m\u001b[0mself\u001b[0m\u001b[0;34m.\u001b[0m\u001b[0mnotch\u001b[0m\u001b[0;34m)\u001b[0m\u001b[0;34m-\u001b[0m\u001b[0mord\u001b[0m\u001b[0;34m(\u001b[0m\u001b[0mstart_position\u001b[0m\u001b[0;34m)\u001b[0m\u001b[0;34m]\u001b[0m\u001b[0;34m\u001b[0m\u001b[0m\n\u001b[1;32m     24\u001b[0m \u001b[0;34m\u001b[0m\u001b[0m\n",
      "\u001b[0;32m<ipython-input-176-7894873f58fe>\u001b[0m in \u001b[0;36m__init__\u001b[0;34m(self, wires)\u001b[0m\n\u001b[1;32m      3\u001b[0m     \u001b[0;32mdef\u001b[0m \u001b[0m__init__\u001b[0m\u001b[0;34m(\u001b[0m\u001b[0mself\u001b[0m\u001b[0;34m,\u001b[0m \u001b[0mwires\u001b[0m\u001b[0;34m=\u001b[0m\u001b[0;34m''\u001b[0m\u001b[0;34m)\u001b[0m\u001b[0;34m:\u001b[0m\u001b[0;34m\u001b[0m\u001b[0m\n\u001b[1;32m      4\u001b[0m         \u001b[0;32mif\u001b[0m \u001b[0mlen\u001b[0m\u001b[0;34m(\u001b[0m\u001b[0mwires\u001b[0m\u001b[0;34m)\u001b[0m\u001b[0;34m>\u001b[0m\u001b[0;36m20\u001b[0m \u001b[0;32mor\u001b[0m \u001b[0mlen\u001b[0m\u001b[0;34m(\u001b[0m\u001b[0mwires\u001b[0m\u001b[0;34m)\u001b[0m\u001b[0;34m%\u001b[0m\u001b[0;36m2\u001b[0m\u001b[0;34m!=\u001b[0m\u001b[0;36m0\u001b[0m \u001b[0;32mor\u001b[0m \u001b[0mlen\u001b[0m\u001b[0;34m(\u001b[0m\u001b[0mset\u001b[0m\u001b[0;34m(\u001b[0m\u001b[0mwires\u001b[0m\u001b[0;34m)\u001b[0m\u001b[0;34m)\u001b[0m\u001b[0;34m!=\u001b[0m\u001b[0mlen\u001b[0m\u001b[0;34m(\u001b[0m\u001b[0mwires\u001b[0m\u001b[0;34m)\u001b[0m\u001b[0;34m:\u001b[0m\u001b[0;34m\u001b[0m\u001b[0m\n\u001b[0;32m----> 5\u001b[0;31m             \u001b[0;32mraise\u001b[0m \u001b[0mException\u001b[0m\u001b[0;34m(\u001b[0m\u001b[0;34m\"Bad wiring\"\u001b[0m\u001b[0;34m)\u001b[0m\u001b[0;34m\u001b[0m\u001b[0m\n\u001b[0m\u001b[1;32m      6\u001b[0m         \u001b[0;32melse\u001b[0m\u001b[0;34m:\u001b[0m\u001b[0;34m\u001b[0m\u001b[0m\n\u001b[1;32m      7\u001b[0m             self.dct_to = dict(re.findall(r'(?i)([a-z][a-z])',\n",
      "\u001b[0;31mException\u001b[0m: Bad wiring"
     ]
    }
   ],
   "source": [
    "rotorI = Rotor(\"I\", \"EKMFLGDQVZNTOWYHXUSPAIBRCJ\", \"Q\", \"Z\", \"O\")"
   ]
  },
  {
   "cell_type": "code",
   "execution_count": 179,
   "metadata": {},
   "outputs": [
    {
     "data": {
      "text/plain": [
       "'HXUSPAIBRCJEKMFLGDQVZNTOWY'"
      ]
     },
     "execution_count": 179,
     "metadata": {},
     "output_type": "execute_result"
    }
   ],
   "source": [
    "rotorI.wiring"
   ]
  },
  {
   "cell_type": "code",
   "execution_count": 175,
   "metadata": {},
   "outputs": [
    {
     "name": "stdout",
     "output_type": "stream",
     "text": [
      "OPQRSTUVWXYZABCDEFGHIJKLMN\n",
      "PQRSTUVWXYZABCDEFGHIJKLMNO\n",
      "{'A': 'P', 'B': 'Q', 'C': 'R', 'D': 'S', 'E': 'T', 'F': 'U', 'G': 'V', 'H': 'W', 'I': 'X', 'J': 'Y', 'K': 'Z', 'L': 'A', 'M': 'B', 'N': 'C', 'O': 'D', 'P': 'E', 'Q': 'F', 'R': 'G', 'S': 'H', 'T': 'I', 'U': 'J', 'V': 'K', 'W': 'L', 'X': 'M', 'Y': 'N', 'Z': 'O'}\n",
      "{'P': 'X', 'Q': 'U', 'R': 'S', 'S': 'P', 'T': 'A', 'U': 'I', 'V': 'B', 'W': 'R', 'X': 'C', 'Y': 'J', 'Z': 'E', 'A': 'K', 'B': 'M', 'C': 'F', 'D': 'L', 'E': 'G', 'F': 'D', 'G': 'Q', 'H': 'V', 'I': 'Z', 'J': 'N', 'K': 'T', 'L': 'O', 'M': 'W', 'N': 'Y', 'O': 'H'}\n"
     ]
    },
    {
     "data": {
      "text/plain": [
       "('X', False)"
      ]
     },
     "execution_count": 175,
     "metadata": {},
     "output_type": "execute_result"
    }
   ],
   "source": [
    "rotorI.process(\"A\",True)"
   ]
  },
  {
   "cell_type": "code",
   "execution_count": 168,
   "metadata": {},
   "outputs": [],
   "source": [
    "alph = 'ABCDEFGHIJKLMNOPQRSTUVWXYZ'"
   ]
  },
  {
   "cell_type": "code",
   "execution_count": 172,
   "metadata": {},
   "outputs": [
    {
     "data": {
      "text/plain": [
       "'EFGHIJKLMNOPQRSTUVWXYZABCD'"
      ]
     },
     "execution_count": 172,
     "metadata": {},
     "output_type": "execute_result"
    }
   ],
   "source": [
    "alph = alph[1:]+alph[0]\n",
    "alph"
   ]
  },
  {
   "cell_type": "code",
   "execution_count": null,
   "metadata": {},
   "outputs": [],
   "source": []
  },
  {
   "cell_type": "code",
   "execution_count": null,
   "metadata": {},
   "outputs": [],
   "source": []
  }
 ],
 "metadata": {
  "kernelspec": {
   "display_name": "Python 3",
   "language": "python",
   "name": "python3"
  },
  "language_info": {
   "codemirror_mode": {
    "name": "ipython",
    "version": 3
   },
   "file_extension": ".py",
   "mimetype": "text/x-python",
   "name": "python",
   "nbconvert_exporter": "python",
   "pygments_lexer": "ipython3",
   "version": "3.6.5"
  }
 },
 "nbformat": 4,
 "nbformat_minor": 2
}
